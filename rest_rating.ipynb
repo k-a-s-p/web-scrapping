{
 "cells": [
  {
   "cell_type": "markdown",
   "id": "2979624b-f271-43e9-a811-0bbe02992fc0",
   "metadata": {},
   "source": [
    "# Извлечение данных с сайта\n",
    "**Сбор информации о ресторанах с сайта при помощи технологии веб-скрапинга**  \n",
    "*Инструменты: requests, pandas, BeutifulSoup, tqdm*\n",
    "\n",
    "Большинство проектов начинается со сбора данных. Данные могут быть полученны из базы данных, Интернета, онлайн или офлайн опросах.  \n",
    "В этой работе мы рассмотрим веб-скрапинг - способ извлечения данных с веб-страницы, на примере сайта restoclub.ru."
   ]
  },
  {
   "cell_type": "markdown",
   "id": "e5c5fc2a-ced8-40d8-9e11-a9dd11179916",
   "metadata": {},
   "source": [
    "### Подключение библиотек\n",
    "\n",
    "Для получения доступа к веб-сайту и извлечения данных с помощью Python будем ипользовать следующие библиотеки:  \n",
    "- requests - позволит нам отправить HTTP запрос к сайту\n",
    "- BeautifulSoup - позволит извлечь информацию из HTML файла\n",
    "- pandas - для создания DataFrame и сохранения данных в файл CSV\n",
    "- tqdm - добавит индикатор прогресса выполнения"
   ]
  },
  {
   "cell_type": "code",
   "execution_count": 1,
   "id": "8be95afd-3a3d-4cae-a817-664cb546a0e8",
   "metadata": {},
   "outputs": [],
   "source": [
    "import requests\n",
    "import pandas as pd\n",
    "from bs4 import BeautifulSoup\n",
    "from tqdm.notebook import tqdm"
   ]
  },
  {
   "cell_type": "markdown",
   "id": "d82f6368-c86d-42e1-b665-ce8eaaeaa18a",
   "metadata": {},
   "source": [
    "### Подключение к сайту"
   ]
  },
  {
   "cell_type": "markdown",
   "id": "183ab7e7-5dad-4f72-9b22-ff101796f4f4",
   "metadata": {},
   "source": [
    "Сохраним адрес сайта в переменную"
   ]
  },
  {
   "cell_type": "code",
   "execution_count": 2,
   "id": "54beaeb8-0f2e-47f1-b712-ab2af0c76b4b",
   "metadata": {},
   "outputs": [],
   "source": [
    "# адрес сайта\n",
    "URL = 'https://www.restoclub.ru'\n",
    "# адрес страницы с рейтингами ресторанов Санкт-Петербурга\n",
    "best_rest_url = URL + '/spb/ratings'"
   ]
  },
  {
   "cell_type": "markdown",
   "id": "edd3500d-98a7-4c05-971b-23109c55eb21",
   "metadata": {},
   "source": [
    "Некоторые сайты определяют, что запрос пришел не от браузера и блокируют его. Что бы этого избежать подменим User-Agent в заголовке запроса"
   ]
  },
  {
   "cell_type": "code",
   "execution_count": 3,
   "id": "bd7c16c3-3f9f-4275-ba3a-4e64da929e76",
   "metadata": {},
   "outputs": [],
   "source": [
    "headers = {'User-Agent': 'Mozilla/5.0 (Macintosh; Intel Mac OS X 10_11_6) AppleWebKit/537.36 (KHTML, like Gecko) Chrome/61.0.3163.100 Safari/537.36'}"
   ]
  },
  {
   "cell_type": "markdown",
   "id": "6c252981-62ac-45ec-9f17-937703a73faf",
   "metadata": {},
   "source": [
    "Подключимся к сайту и проверим подключение"
   ]
  },
  {
   "cell_type": "code",
   "execution_count": 4,
   "id": "03c15e07-0700-43c5-b25d-c3fd8dfe7628",
   "metadata": {},
   "outputs": [
    {
     "data": {
      "text/plain": [
       "200"
      ]
     },
     "execution_count": 4,
     "metadata": {},
     "output_type": "execute_result"
    }
   ],
   "source": [
    "response = requests.get(best_rest_url, headers=headers)\n",
    "response.status_code"
   ]
  },
  {
   "cell_type": "markdown",
   "id": "6c0d506d-bbee-4b17-a58e-b5b416cccab8",
   "metadata": {},
   "source": [
    "Код 200 говорит об успешном подключении\n",
    "\n",
    "Передадим соержимое страницы в BeautifulSoup, указав html.parser в качестве анализатора"
   ]
  },
  {
   "cell_type": "code",
   "execution_count": 5,
   "id": "20f0c209-175e-4a64-8f31-1f4017af1f63",
   "metadata": {},
   "outputs": [],
   "source": [
    "content = response.content\n",
    "soup = BeautifulSoup(content,'html.parser')"
   ]
  },
  {
   "cell_type": "markdown",
   "id": "53585de9-5c53-49c6-a5d4-42e93945e0af",
   "metadata": {},
   "source": [
    "Теперь в переменной *soup* находится объект *BeautifulSoup* содержащий содержимое страницы с рейтингами ресторанов. Для составления рейтинга нам требуется пройтись по всем рейтингам.  \n",
    "Для этого найдем на странице ссылки на подстраницы с рейтингами.\n",
    "\n",
    "С помощью веб-инспектора определим, что нужные ссылки имеют класс *\"btn _full _round _transparent _red-text more-btn\"*. Найдем на странице все теги *a* с этим классом и сохраним сожержимое ссылки."
   ]
  },
  {
   "cell_type": "code",
   "execution_count": 6,
   "id": "93490324-85a5-4dcf-92d0-9e3405e224e3",
   "metadata": {},
   "outputs": [],
   "source": [
    "best_rest_urls = [x['href'] for x in soup.find_all('a', class_='btn _full _round _transparent _red-text more-btn')]\n",
    "# добавим к ссылке адрес сайта\n",
    "best_rest_urls = [URL + x for x in best_rest_urls]"
   ]
  },
  {
   "cell_type": "markdown",
   "id": "21e2fd44-1ca0-4263-a252-ed4be14cfd15",
   "metadata": {},
   "source": [
    "Посмотрим, что получилось"
   ]
  },
  {
   "cell_type": "code",
   "execution_count": 7,
   "id": "d1eac7bd-836e-4f55-b158-fc09e9b2e96d",
   "metadata": {},
   "outputs": [
    {
     "data": {
      "text/plain": [
       "['https://www.restoclub.ru/spb/ratings/russkaja-kuhnja-top-10',\n",
       " 'https://www.restoclub.ru/spb/ratings/authors-cuisine',\n",
       " 'https://www.restoclub.ru/spb/ratings/rejting-italjanskih-restoranov',\n",
       " 'https://www.restoclub.ru/spb/ratings/rejting-vostochnyh-zavedenij',\n",
       " 'https://www.restoclub.ru/spb/ratings/rejting-kavkazskih-zavedenij',\n",
       " 'https://www.restoclub.ru/spb/ratings/rejting-japonskih-mest',\n",
       " 'https://www.restoclub.ru/spb/ratings/rejting-kitajskih-zavedenij',\n",
       " 'https://www.restoclub.ru/spb/ratings/luchshie-iz-nedorogih',\n",
       " 'https://www.restoclub.ru/spb/ratings/reiting-vegetarianskih-kafe-i-restoranov',\n",
       " 'https://www.restoclub.ru/spb/ratings/rejting-zagorodnyh-restoranov',\n",
       " 'https://www.restoclub.ru/spb/ratings/reiting-kofeen-v-peterburge',\n",
       " 'https://www.restoclub.ru/spb/ratings/vinoteki-i-vinnye-restorany',\n",
       " 'https://www.restoclub.ru/spb/ratings/rejting-barov-peterburga',\n",
       " 'https://www.restoclub.ru/spb/ratings/rejting-pivnyh-zavedenij',\n",
       " 'https://www.restoclub.ru/spb/ratings/rejting-vip-restoranov',\n",
       " 'https://www.restoclub.ru/spb/ratings/rejting-streetfood-zavedenij',\n",
       " 'https://www.restoclub.ru/spb/ratings/top-10-gde-smotret-futbol',\n",
       " 'https://www.restoclub.ru/spb/ratings/rejting-kaliannih-peterburga',\n",
       " 'https://www.restoclub.ru/spb/ratings/rejting-380-restoranov',\n",
       " 'https://www.restoclub.ru/spb/ratings/best-asian-places',\n",
       " 'https://www.restoclub.ru/spb/ratings/familytime']"
      ]
     },
     "execution_count": 7,
     "metadata": {},
     "output_type": "execute_result"
    }
   ],
   "source": [
    "best_rest_urls"
   ]
  },
  {
   "cell_type": "markdown",
   "id": "cfb70376-6ca7-431d-b1ed-19110766cb21",
   "metadata": {},
   "source": [
    "### Поиск подробных сведений"
   ]
  },
  {
   "cell_type": "markdown",
   "id": "9a72f162-e405-4412-9979-94b262f68db3",
   "metadata": {},
   "source": [
    "Теперь, когда список рейтингов готов, необходимо найти подробные сведения о каждом конкретном ресторане.  \n",
    "В этой работе мы будем искать и сохранять следующие сведения:\n",
    "- Название рейтинга\n",
    "- Название ресторана\n",
    "- Тип кухни\n",
    "- Средний чек\n",
    "- Рейтинг\n",
    "\n",
    "Для этого возьмем первый рейтинг и попробуем найти нужные нам сведения у первого ресторана.\n",
    "\n",
    "Для начала подключимся к 1 странице с рейтингом и создадим объект *BeautifylSoup*"
   ]
  },
  {
   "cell_type": "code",
   "execution_count": 8,
   "id": "d3bcd3c7-f55f-4e8e-a87f-70dc1fd25b31",
   "metadata": {},
   "outputs": [],
   "source": [
    "best_rest_content = requests.get(best_rest_urls[0], headers=headers).content\n",
    "best_rest_soup = BeautifulSoup(best_rest_content, 'html.parser')"
   ]
  },
  {
   "cell_type": "markdown",
   "id": "584f896e-b135-4c5c-9acc-39910074085b",
   "metadata": {},
   "source": [
    "С помощью веб-инспектора найдем тег, содержащий название рейтинга"
   ]
  },
  {
   "cell_type": "code",
   "execution_count": 9,
   "id": "5fc87144-74f6-446e-bfa3-f4f15d2205ee",
   "metadata": {},
   "outputs": [
    {
     "data": {
      "text/plain": [
       "'Русские рестораны'"
      ]
     },
     "execution_count": 9,
     "metadata": {},
     "output_type": "execute_result"
    }
   ],
   "source": [
    "best_rest_soup.find('div', class_='page__item page-ratings__description').h1.text"
   ]
  },
  {
   "cell_type": "markdown",
   "id": "c9e2e2cb-ece5-4799-9df6-136ac8f19372",
   "metadata": {},
   "source": [
    "Аналогично найдем все остальные сведения"
   ]
  },
  {
   "cell_type": "code",
   "execution_count": 10,
   "id": "81c268fa-a564-4d95-8431-bfe90e1c206e",
   "metadata": {},
   "outputs": [],
   "source": [
    "# найдем список ресторанов\n",
    "rest_list = best_rest_soup.find('ul',attrs={'class': 'rating-places _full'})\n",
    "# найдем все рестораны в списке\n",
    "rest_items = rest_list.find_all('li', attrs={'class': 'rating-places__item'})"
   ]
  },
  {
   "cell_type": "code",
   "execution_count": 11,
   "id": "1a427b5f-90ad-4210-8e8f-63e85671834c",
   "metadata": {
    "scrolled": true
   },
   "outputs": [
    {
     "data": {
      "text/plain": [
       "'Проспект'"
      ]
     },
     "execution_count": 11,
     "metadata": {},
     "output_type": "execute_result"
    }
   ],
   "source": [
    "# найдем название ресторана\n",
    "rest_items[0].find('span', attrs={'class': 'search-place-title__name'}).find('span').text"
   ]
  },
  {
   "cell_type": "code",
   "execution_count": 12,
   "id": "d1a76533-94e8-4b23-9ac0-2fa2ef3a9c81",
   "metadata": {},
   "outputs": [
    {
     "data": {
      "text/plain": [
       "['русская', 'европейская']"
      ]
     },
     "execution_count": 12,
     "metadata": {},
     "output_type": "execute_result"
    }
   ],
   "source": [
    "# тип кухни\n",
    "[x.text for x in rest_items[0].find('li', class_='search-place-card__info-item _cuisine').find_all('span', class_='cuisine')]"
   ]
  },
  {
   "cell_type": "code",
   "execution_count": 13,
   "id": "b8181c6f-34fb-4f35-b138-d69a1a4125ef",
   "metadata": {},
   "outputs": [
    {
     "name": "stdout",
     "output_type": "stream",
     "text": [
      "1050 \n"
     ]
    }
   ],
   "source": [
    "# средний чек\n",
    "print(rest_items[0].find('li', class_='search-place-card__info-item _bill').text)"
   ]
  },
  {
   "cell_type": "code",
   "execution_count": 14,
   "id": "8aec54f9-010c-4fba-9d9f-ebc254c92422",
   "metadata": {},
   "outputs": [
    {
     "data": {
      "text/plain": [
       "'9.4'"
      ]
     },
     "execution_count": 14,
     "metadata": {},
     "output_type": "execute_result"
    }
   ],
   "source": [
    "# рейтинг\n",
    "rest_items[0].find('div', attrs={'class': 'rating__value'}).text"
   ]
  },
  {
   "cell_type": "markdown",
   "id": "40cdd535-fe66-459e-8fba-cf59aa274d77",
   "metadata": {},
   "source": [
    "### Сохранение в таблицу "
   ]
  },
  {
   "cell_type": "markdown",
   "id": "7667249d-7ac7-46d9-be85-dec4830de506",
   "metadata": {},
   "source": [
    "Мы нашли все теги, содержащие нужные нам данные, теперь можно применить цикл и сохранить нужную инфорацию со всех страниц.  \n",
    "Для наблюдения за процессом добавим индикатор прогресса с помощью *tqdm*"
   ]
  },
  {
   "cell_type": "code",
   "execution_count": 15,
   "id": "01079f5f-0317-4a69-b0c6-4f05bd67fa4a",
   "metadata": {},
   "outputs": [
    {
     "data": {
      "application/vnd.jupyter.widget-view+json": {
       "model_id": "8ecb7c86055a4c4da5512dd00be645df",
       "version_major": 2,
       "version_minor": 0
      },
      "text/plain": [
       "  0%|          | 0/21 [00:00<?, ?it/s]"
      ]
     },
     "metadata": {},
     "output_type": "display_data"
    },
    {
     "data": {
      "application/vnd.jupyter.widget-view+json": {
       "model_id": "",
       "version_major": 2,
       "version_minor": 0
      },
      "text/plain": [
       "  0%|          | 0/10 [00:00<?, ?it/s]"
      ]
     },
     "metadata": {},
     "output_type": "display_data"
    },
    {
     "data": {
      "application/vnd.jupyter.widget-view+json": {
       "model_id": "",
       "version_major": 2,
       "version_minor": 0
      },
      "text/plain": [
       "  0%|          | 0/10 [00:00<?, ?it/s]"
      ]
     },
     "metadata": {},
     "output_type": "display_data"
    },
    {
     "data": {
      "application/vnd.jupyter.widget-view+json": {
       "model_id": "",
       "version_major": 2,
       "version_minor": 0
      },
      "text/plain": [
       "  0%|          | 0/10 [00:00<?, ?it/s]"
      ]
     },
     "metadata": {},
     "output_type": "display_data"
    },
    {
     "data": {
      "application/vnd.jupyter.widget-view+json": {
       "model_id": "",
       "version_major": 2,
       "version_minor": 0
      },
      "text/plain": [
       "  0%|          | 0/10 [00:00<?, ?it/s]"
      ]
     },
     "metadata": {},
     "output_type": "display_data"
    },
    {
     "data": {
      "application/vnd.jupyter.widget-view+json": {
       "model_id": "",
       "version_major": 2,
       "version_minor": 0
      },
      "text/plain": [
       "  0%|          | 0/10 [00:00<?, ?it/s]"
      ]
     },
     "metadata": {},
     "output_type": "display_data"
    },
    {
     "data": {
      "application/vnd.jupyter.widget-view+json": {
       "model_id": "",
       "version_major": 2,
       "version_minor": 0
      },
      "text/plain": [
       "  0%|          | 0/10 [00:00<?, ?it/s]"
      ]
     },
     "metadata": {},
     "output_type": "display_data"
    },
    {
     "data": {
      "application/vnd.jupyter.widget-view+json": {
       "model_id": "",
       "version_major": 2,
       "version_minor": 0
      },
      "text/plain": [
       "  0%|          | 0/10 [00:00<?, ?it/s]"
      ]
     },
     "metadata": {},
     "output_type": "display_data"
    },
    {
     "data": {
      "application/vnd.jupyter.widget-view+json": {
       "model_id": "",
       "version_major": 2,
       "version_minor": 0
      },
      "text/plain": [
       "  0%|          | 0/10 [00:00<?, ?it/s]"
      ]
     },
     "metadata": {},
     "output_type": "display_data"
    },
    {
     "data": {
      "application/vnd.jupyter.widget-view+json": {
       "model_id": "",
       "version_major": 2,
       "version_minor": 0
      },
      "text/plain": [
       "  0%|          | 0/10 [00:00<?, ?it/s]"
      ]
     },
     "metadata": {},
     "output_type": "display_data"
    },
    {
     "data": {
      "application/vnd.jupyter.widget-view+json": {
       "model_id": "",
       "version_major": 2,
       "version_minor": 0
      },
      "text/plain": [
       "  0%|          | 0/10 [00:00<?, ?it/s]"
      ]
     },
     "metadata": {},
     "output_type": "display_data"
    },
    {
     "data": {
      "application/vnd.jupyter.widget-view+json": {
       "model_id": "",
       "version_major": 2,
       "version_minor": 0
      },
      "text/plain": [
       "  0%|          | 0/10 [00:00<?, ?it/s]"
      ]
     },
     "metadata": {},
     "output_type": "display_data"
    },
    {
     "data": {
      "application/vnd.jupyter.widget-view+json": {
       "model_id": "",
       "version_major": 2,
       "version_minor": 0
      },
      "text/plain": [
       "  0%|          | 0/10 [00:00<?, ?it/s]"
      ]
     },
     "metadata": {},
     "output_type": "display_data"
    },
    {
     "data": {
      "application/vnd.jupyter.widget-view+json": {
       "model_id": "",
       "version_major": 2,
       "version_minor": 0
      },
      "text/plain": [
       "  0%|          | 0/10 [00:00<?, ?it/s]"
      ]
     },
     "metadata": {},
     "output_type": "display_data"
    },
    {
     "data": {
      "application/vnd.jupyter.widget-view+json": {
       "model_id": "",
       "version_major": 2,
       "version_minor": 0
      },
      "text/plain": [
       "  0%|          | 0/10 [00:00<?, ?it/s]"
      ]
     },
     "metadata": {},
     "output_type": "display_data"
    },
    {
     "data": {
      "application/vnd.jupyter.widget-view+json": {
       "model_id": "",
       "version_major": 2,
       "version_minor": 0
      },
      "text/plain": [
       "  0%|          | 0/10 [00:00<?, ?it/s]"
      ]
     },
     "metadata": {},
     "output_type": "display_data"
    },
    {
     "data": {
      "application/vnd.jupyter.widget-view+json": {
       "model_id": "",
       "version_major": 2,
       "version_minor": 0
      },
      "text/plain": [
       "  0%|          | 0/10 [00:00<?, ?it/s]"
      ]
     },
     "metadata": {},
     "output_type": "display_data"
    },
    {
     "data": {
      "application/vnd.jupyter.widget-view+json": {
       "model_id": "",
       "version_major": 2,
       "version_minor": 0
      },
      "text/plain": [
       "  0%|          | 0/10 [00:00<?, ?it/s]"
      ]
     },
     "metadata": {},
     "output_type": "display_data"
    },
    {
     "data": {
      "application/vnd.jupyter.widget-view+json": {
       "model_id": "",
       "version_major": 2,
       "version_minor": 0
      },
      "text/plain": [
       "  0%|          | 0/10 [00:00<?, ?it/s]"
      ]
     },
     "metadata": {},
     "output_type": "display_data"
    },
    {
     "data": {
      "application/vnd.jupyter.widget-view+json": {
       "model_id": "",
       "version_major": 2,
       "version_minor": 0
      },
      "text/plain": [
       "  0%|          | 0/10 [00:00<?, ?it/s]"
      ]
     },
     "metadata": {},
     "output_type": "display_data"
    },
    {
     "data": {
      "application/vnd.jupyter.widget-view+json": {
       "model_id": "",
       "version_major": 2,
       "version_minor": 0
      },
      "text/plain": [
       "  0%|          | 0/10 [00:00<?, ?it/s]"
      ]
     },
     "metadata": {},
     "output_type": "display_data"
    },
    {
     "data": {
      "application/vnd.jupyter.widget-view+json": {
       "model_id": "",
       "version_major": 2,
       "version_minor": 0
      },
      "text/plain": [
       "  0%|          | 0/10 [00:00<?, ?it/s]"
      ]
     },
     "metadata": {},
     "output_type": "display_data"
    }
   ],
   "source": [
    "list_rest = []\n",
    "for list in tqdm(best_rest_urls):\n",
    "    best_rest_content = requests.get(list, headers=headers).content\n",
    "    best_rest_soup = BeautifulSoup(best_rest_content, 'html.parser')\n",
    "    rest_list = best_rest_soup.find('ul',attrs={'class': 'rating-places _full'})\n",
    "    rest_items = rest_list.find_all('li', attrs={'class': 'rating-places__item'})\n",
    "    for item in tqdm(rest_items, leave=None):\n",
    "        df = {}\n",
    "        df['list_name'] = best_rest_soup.find('div', class_='page__item page-ratings__description').h1.text\n",
    "        df['rest_name'] = item.find('span', attrs={'class': 'search-place-title__name'}).find('span').text\n",
    "        # так как у некоторых ресторанов отсутствуют некоторые сведения,\n",
    "        # используем конструкцию try-except\n",
    "        try:\n",
    "            df['price'] = item.find('li', class_='search-place-card__info-item _bill').text\n",
    "        except:\n",
    "            df['price'] = 0\n",
    "        try:\n",
    "            df['cuisine'] = [x.text for x in item.find('li', class_='search-place-card__info-item _cuisine').find_all('span', class_='cuisine')]\n",
    "        except:\n",
    "            df['cuisine'] = 'нет данных'\n",
    "        df['rating'] = item.find('div', attrs={'class': 'rating__value'}).text\n",
    "        list_rest.append(df)"
   ]
  },
  {
   "cell_type": "markdown",
   "id": "a22eaa8c-8a1a-461d-9feb-b7526304d68b",
   "metadata": {},
   "source": [
    "Полученый список преобразуем в DataFrame"
   ]
  },
  {
   "cell_type": "code",
   "execution_count": 16,
   "id": "4ae80be0-aa46-4367-9ea5-277cd2a55afa",
   "metadata": {},
   "outputs": [],
   "source": [
    "list_rest = pd.DataFrame(list_rest)"
   ]
  },
  {
   "cell_type": "markdown",
   "id": "de7b56c1-b6b4-408d-90c5-85186dc65e82",
   "metadata": {},
   "source": [
    "Посмотрим результат"
   ]
  },
  {
   "cell_type": "code",
   "execution_count": 17,
   "id": "22a44905-29a1-4270-b8b8-7305eff7bbe6",
   "metadata": {},
   "outputs": [
    {
     "data": {
      "text/html": [
       "<div>\n",
       "<style scoped>\n",
       "    .dataframe tbody tr th:only-of-type {\n",
       "        vertical-align: middle;\n",
       "    }\n",
       "\n",
       "    .dataframe tbody tr th {\n",
       "        vertical-align: top;\n",
       "    }\n",
       "\n",
       "    .dataframe thead th {\n",
       "        text-align: right;\n",
       "    }\n",
       "</style>\n",
       "<table border=\"1\" class=\"dataframe\">\n",
       "  <thead>\n",
       "    <tr style=\"text-align: right;\">\n",
       "      <th></th>\n",
       "      <th>list_name</th>\n",
       "      <th>rest_name</th>\n",
       "      <th>price</th>\n",
       "      <th>cuisine</th>\n",
       "      <th>rating</th>\n",
       "    </tr>\n",
       "  </thead>\n",
       "  <tbody>\n",
       "    <tr>\n",
       "      <th>0</th>\n",
       "      <td>Русские рестораны</td>\n",
       "      <td>Проспект</td>\n",
       "      <td>1050</td>\n",
       "      <td>[русская, европейская]</td>\n",
       "      <td>9.4</td>\n",
       "    </tr>\n",
       "    <tr>\n",
       "      <th>1</th>\n",
       "      <td>Русские рестораны</td>\n",
       "      <td>Тройка</td>\n",
       "      <td>1750</td>\n",
       "      <td>[европейская, русская]</td>\n",
       "      <td>9.2</td>\n",
       "    </tr>\n",
       "    <tr>\n",
       "      <th>2</th>\n",
       "      <td>Русские рестораны</td>\n",
       "      <td>Usoff</td>\n",
       "      <td>1300</td>\n",
       "      <td>[европейская, русская]</td>\n",
       "      <td>9.2</td>\n",
       "    </tr>\n",
       "    <tr>\n",
       "      <th>3</th>\n",
       "      <td>Русские рестораны</td>\n",
       "      <td>Мари Vanna</td>\n",
       "      <td>2500</td>\n",
       "      <td>[русская, вино]</td>\n",
       "      <td>9.1</td>\n",
       "    </tr>\n",
       "    <tr>\n",
       "      <th>4</th>\n",
       "      <td>Русские рестораны</td>\n",
       "      <td>Сытинъ</td>\n",
       "      <td>1200</td>\n",
       "      <td>[русская, корюшка]</td>\n",
       "      <td>9</td>\n",
       "    </tr>\n",
       "    <tr>\n",
       "      <th>...</th>\n",
       "      <td>...</td>\n",
       "      <td>...</td>\n",
       "      <td>...</td>\n",
       "      <td>...</td>\n",
       "      <td>...</td>\n",
       "    </tr>\n",
       "    <tr>\n",
       "      <th>205</th>\n",
       "      <td>Семейные рестораны</td>\n",
       "      <td>Сказкино варенье</td>\n",
       "      <td>700</td>\n",
       "      <td>[русская, европейская, пицца]</td>\n",
       "      <td>8.9</td>\n",
       "    </tr>\n",
       "    <tr>\n",
       "      <th>206</th>\n",
       "      <td>Семейные рестораны</td>\n",
       "      <td>Артишок</td>\n",
       "      <td>900</td>\n",
       "      <td>[европейская, смешанная]</td>\n",
       "      <td>8.9</td>\n",
       "    </tr>\n",
       "    <tr>\n",
       "      <th>207</th>\n",
       "      <td>Семейные рестораны</td>\n",
       "      <td>Вкусновица</td>\n",
       "      <td>1500</td>\n",
       "      <td>[сербская, вино]</td>\n",
       "      <td>8.8</td>\n",
       "    </tr>\n",
       "    <tr>\n",
       "      <th>208</th>\n",
       "      <td>Семейные рестораны</td>\n",
       "      <td>Лесопилка</td>\n",
       "      <td>1100</td>\n",
       "      <td>[европейская, итальянская]</td>\n",
       "      <td>8.8</td>\n",
       "    </tr>\n",
       "    <tr>\n",
       "      <th>209</th>\n",
       "      <td>Семейные рестораны</td>\n",
       "      <td>Птички и ягоды</td>\n",
       "      <td>1700</td>\n",
       "      <td>[европейская, русская]</td>\n",
       "      <td>8.8</td>\n",
       "    </tr>\n",
       "  </tbody>\n",
       "</table>\n",
       "<p>210 rows × 5 columns</p>\n",
       "</div>"
      ],
      "text/plain": [
       "              list_name         rest_name  price  \\\n",
       "0     Русские рестораны          Проспект  1050    \n",
       "1     Русские рестораны            Тройка  1750    \n",
       "2     Русские рестораны             Usoff  1300    \n",
       "3     Русские рестораны        Мари Vanna  2500    \n",
       "4     Русские рестораны            Сытинъ  1200    \n",
       "..                  ...               ...    ...   \n",
       "205  Семейные рестораны  Сказкино варенье   700    \n",
       "206  Семейные рестораны           Артишок   900    \n",
       "207  Семейные рестораны        Вкусновица  1500    \n",
       "208  Семейные рестораны         Лесопилка  1100    \n",
       "209  Семейные рестораны    Птички и ягоды  1700    \n",
       "\n",
       "                           cuisine rating  \n",
       "0           [русская, европейская]    9.4  \n",
       "1           [европейская, русская]    9.2  \n",
       "2           [европейская, русская]    9.2  \n",
       "3                  [русская, вино]    9.1  \n",
       "4               [русская, корюшка]      9  \n",
       "..                             ...    ...  \n",
       "205  [русская, европейская, пицца]    8.9  \n",
       "206       [европейская, смешанная]    8.9  \n",
       "207               [сербская, вино]    8.8  \n",
       "208     [европейская, итальянская]    8.8  \n",
       "209         [европейская, русская]    8.8  \n",
       "\n",
       "[210 rows x 5 columns]"
      ]
     },
     "execution_count": 17,
     "metadata": {},
     "output_type": "execute_result"
    }
   ],
   "source": [
    "list_rest"
   ]
  },
  {
   "cell_type": "markdown",
   "id": "97f90e84-07e9-4c05-9ed2-41495c83f536",
   "metadata": {},
   "source": [
    "Сохраним полученную таблицу в файл"
   ]
  },
  {
   "cell_type": "code",
   "execution_count": 18,
   "id": "f0306ef4-0a8e-442e-9f0d-1328dc0f800a",
   "metadata": {},
   "outputs": [],
   "source": [
    "list_rest.to_csv('restorans.csv', index=False)"
   ]
  },
  {
   "cell_type": "markdown",
   "id": "7f561105-83c6-48ec-b3c2-143073354104",
   "metadata": {},
   "source": [
    "### Вывод\n",
    "С помощью веб-скрапинга сайта с рейтингами ресторанов мы получили таблицу, содержащую информацию о лучших ресторанах Санкт-Петербурга.  \n",
    "Полученная таблица была сохранена в файл формата CSV для последующего анализа"
   ]
  },
  {
   "cell_type": "code",
   "execution_count": null,
   "id": "755837cd-32ea-499f-903d-60cc94586119",
   "metadata": {},
   "outputs": [],
   "source": []
  }
 ],
 "metadata": {
  "kernelspec": {
   "display_name": "Python 3 (ipykernel)",
   "language": "python",
   "name": "python3"
  },
  "language_info": {
   "codemirror_mode": {
    "name": "ipython",
    "version": 3
   },
   "file_extension": ".py",
   "mimetype": "text/x-python",
   "name": "python",
   "nbconvert_exporter": "python",
   "pygments_lexer": "ipython3",
   "version": "3.12.1"
  },
  "widgets": {
   "application/vnd.jupyter.widget-state+json": {
    "state": {
     "00c9164e8f994137ac9a8e7ee85c032f": {
      "model_module": "@jupyter-widgets/controls",
      "model_module_version": "2.0.0",
      "model_name": "FloatProgressModel",
      "state": {
       "bar_style": "success",
       "layout": "IPY_MODEL_6bfbdb0a39ab406e9190ce7235abfd1e",
       "max": 21,
       "style": "IPY_MODEL_547cd95ae8624342a0ef673bad57af48",
       "value": 21
      }
     },
     "01206ca4b1b74084b4b1b14e22c486f3": {
      "model_module": "@jupyter-widgets/base",
      "model_module_version": "2.0.0",
      "model_name": "LayoutModel",
      "state": {}
     },
     "01a9534ea0504729b28804f5bfb71dd2": {
      "model_module": "@jupyter-widgets/controls",
      "model_module_version": "2.0.0",
      "model_name": "HTMLModel",
      "state": {
       "layout": "IPY_MODEL_da5d4d5803a1471a8c1017eb32485e63",
       "style": "IPY_MODEL_232ec42bf0c94984a1053e1b0070d7a8",
       "value": "  0%"
      }
     },
     "01af8e97217b480e8363c655bb0c0b46": {
      "model_module": "@jupyter-widgets/controls",
      "model_module_version": "2.0.0",
      "model_name": "HTMLModel",
      "state": {
       "layout": "IPY_MODEL_ed27d1f2121e4c239ebd83d4105e4562",
       "style": "IPY_MODEL_a950a079e3a24a52b3407c7164bd8dfc",
       "value": "  0%"
      }
     },
     "01d5c6b5551e4e0f943edd0cd3c95fdd": {
      "model_module": "@jupyter-widgets/controls",
      "model_module_version": "2.0.0",
      "model_name": "HTMLStyleModel",
      "state": {
       "description_width": "",
       "font_size": null,
       "text_color": null
      }
     },
     "02990abe0d7444b6bb30a83768efeb04": {
      "model_module": "@jupyter-widgets/controls",
      "model_module_version": "2.0.0",
      "model_name": "ProgressStyleModel",
      "state": {
       "description_width": ""
      }
     },
     "06498083057b458191157129810a6a1a": {
      "model_module": "@jupyter-widgets/controls",
      "model_module_version": "2.0.0",
      "model_name": "HTMLStyleModel",
      "state": {
       "description_width": "",
       "font_size": null,
       "text_color": null
      }
     },
     "07d01055be274a8bad358d18ebb09255": {
      "model_module": "@jupyter-widgets/controls",
      "model_module_version": "2.0.0",
      "model_name": "HTMLStyleModel",
      "state": {
       "description_width": "",
       "font_size": null,
       "text_color": null
      }
     },
     "08ccaf04aa7f47cdbd1b3c647f5bc23e": {
      "model_module": "@jupyter-widgets/controls",
      "model_module_version": "2.0.0",
      "model_name": "ProgressStyleModel",
      "state": {
       "description_width": ""
      }
     },
     "0a060295956e4e3e92b1cc81f708cc09": {
      "model_module": "@jupyter-widgets/base",
      "model_module_version": "2.0.0",
      "model_name": "LayoutModel",
      "state": {
       "visibility": "hidden"
      }
     },
     "0a34023881254e898d07fa8ccd44d1f3": {
      "model_module": "@jupyter-widgets/controls",
      "model_module_version": "2.0.0",
      "model_name": "FloatProgressModel",
      "state": {
       "layout": "IPY_MODEL_be25845e436e4053bb0310a1f7dbb098",
       "max": 10,
       "style": "IPY_MODEL_1d6ed492c4d648a3bd073703681d4b04",
       "value": 10
      }
     },
     "0b5198bbf6eb464b9fc4bcae14df592f": {
      "model_module": "@jupyter-widgets/controls",
      "model_module_version": "2.0.0",
      "model_name": "ProgressStyleModel",
      "state": {
       "description_width": ""
      }
     },
     "0bbe50d7206d4575a9a217507a806316": {
      "model_module": "@jupyter-widgets/base",
      "model_module_version": "2.0.0",
      "model_name": "LayoutModel",
      "state": {
       "visibility": "hidden"
      }
     },
     "0c5bee7579764e6f968b54247d455cd7": {
      "model_module": "@jupyter-widgets/controls",
      "model_module_version": "2.0.0",
      "model_name": "HTMLStyleModel",
      "state": {
       "description_width": "",
       "font_size": null,
       "text_color": null
      }
     },
     "0c74004c84a842fb9b373d40f1a55a61": {
      "model_module": "@jupyter-widgets/controls",
      "model_module_version": "2.0.0",
      "model_name": "ProgressStyleModel",
      "state": {
       "description_width": ""
      }
     },
     "0e329a8f0a524fce8ca76b6ddb34fb08": {
      "model_module": "@jupyter-widgets/controls",
      "model_module_version": "2.0.0",
      "model_name": "HTMLModel",
      "state": {
       "layout": "IPY_MODEL_48ec6e1bb1e7489b858e066c2067ec25",
       "style": "IPY_MODEL_f57afcf7ff454c9bbb3df2529528019c",
       "value": "100%"
      }
     },
     "0e9909471db34bd49679c5da2c8ea749": {
      "model_module": "@jupyter-widgets/controls",
      "model_module_version": "2.0.0",
      "model_name": "HTMLModel",
      "state": {
       "layout": "IPY_MODEL_1271afcc84b04e4dba149c21bcf84f65",
       "style": "IPY_MODEL_86a2569e86354101b5d7b45ff08fd0cc",
       "value": " 0/10 [00:00&lt;?, ?it/s]"
      }
     },
     "0f835c99ce664e3d93428d83a2298449": {
      "model_module": "@jupyter-widgets/controls",
      "model_module_version": "2.0.0",
      "model_name": "ProgressStyleModel",
      "state": {
       "description_width": ""
      }
     },
     "102b5336a2c04699b065879512079a58": {
      "model_module": "@jupyter-widgets/base",
      "model_module_version": "2.0.0",
      "model_name": "LayoutModel",
      "state": {
       "visibility": "hidden"
      }
     },
     "10c01852cc2944f980ffabf050cba870": {
      "model_module": "@jupyter-widgets/base",
      "model_module_version": "2.0.0",
      "model_name": "LayoutModel",
      "state": {}
     },
     "1271afcc84b04e4dba149c21bcf84f65": {
      "model_module": "@jupyter-widgets/base",
      "model_module_version": "2.0.0",
      "model_name": "LayoutModel",
      "state": {}
     },
     "13867cb6a727465fa567ea0b0fa72543": {
      "model_module": "@jupyter-widgets/base",
      "model_module_version": "2.0.0",
      "model_name": "LayoutModel",
      "state": {}
     },
     "152a9eda599e4a4ca21c8cc5c5859683": {
      "model_module": "@jupyter-widgets/controls",
      "model_module_version": "2.0.0",
      "model_name": "HTMLStyleModel",
      "state": {
       "description_width": "",
       "font_size": null,
       "text_color": null
      }
     },
     "153e14aefab847a2958c4e22990f7c85": {
      "model_module": "@jupyter-widgets/base",
      "model_module_version": "2.0.0",
      "model_name": "LayoutModel",
      "state": {
       "visibility": "hidden"
      }
     },
     "1780626dee4b4912b845e0f16fd46e52": {
      "model_module": "@jupyter-widgets/base",
      "model_module_version": "2.0.0",
      "model_name": "LayoutModel",
      "state": {}
     },
     "1919ccf75164443b84572f042d4bce9e": {
      "model_module": "@jupyter-widgets/controls",
      "model_module_version": "2.0.0",
      "model_name": "HTMLStyleModel",
      "state": {
       "description_width": "",
       "font_size": null,
       "text_color": null
      }
     },
     "1a601f25503f47418aaaeefb31d61e66": {
      "model_module": "@jupyter-widgets/controls",
      "model_module_version": "2.0.0",
      "model_name": "ProgressStyleModel",
      "state": {
       "description_width": ""
      }
     },
     "1b0e1f206f68481b9ab7fe06ddaa521e": {
      "model_module": "@jupyter-widgets/controls",
      "model_module_version": "2.0.0",
      "model_name": "HTMLModel",
      "state": {
       "layout": "IPY_MODEL_2670245860544f219d0b48f804735f67",
       "style": "IPY_MODEL_3334c22bcbf44371bd47154ceec807c1",
       "value": " 0/10 [00:00&lt;?, ?it/s]"
      }
     },
     "1d6ace5c508141e292928529152ebe4c": {
      "model_module": "@jupyter-widgets/controls",
      "model_module_version": "2.0.0",
      "model_name": "HTMLModel",
      "state": {
       "layout": "IPY_MODEL_31cf9c1da70f4688b649b44de09af2bb",
       "style": "IPY_MODEL_774fa2734e0d4d77a8b7c7c88238df0e",
       "value": " 0/10 [00:00&lt;?, ?it/s]"
      }
     },
     "1d6ed492c4d648a3bd073703681d4b04": {
      "model_module": "@jupyter-widgets/controls",
      "model_module_version": "2.0.0",
      "model_name": "ProgressStyleModel",
      "state": {
       "description_width": ""
      }
     },
     "1de59bc4ba384a659627f4d808862547": {
      "model_module": "@jupyter-widgets/base",
      "model_module_version": "2.0.0",
      "model_name": "LayoutModel",
      "state": {
       "visibility": "hidden"
      }
     },
     "1e5350ee82b3472f96e965a26a708d84": {
      "model_module": "@jupyter-widgets/base",
      "model_module_version": "2.0.0",
      "model_name": "LayoutModel",
      "state": {}
     },
     "1f242a060f6941e1b62318323f794cfb": {
      "model_module": "@jupyter-widgets/controls",
      "model_module_version": "2.0.0",
      "model_name": "HTMLModel",
      "state": {
       "layout": "IPY_MODEL_e778a910b78f402fbbbd4e088b5939bd",
       "style": "IPY_MODEL_d4e42cb0ae3c4ed4a3207944c3c15405",
       "value": "  0%"
      }
     },
     "207813a73f124b69943a3e020593f8f2": {
      "model_module": "@jupyter-widgets/base",
      "model_module_version": "2.0.0",
      "model_name": "LayoutModel",
      "state": {}
     },
     "21e9f3d6a4ff4b3fb3c99adbad36c1c8": {
      "model_module": "@jupyter-widgets/base",
      "model_module_version": "2.0.0",
      "model_name": "LayoutModel",
      "state": {}
     },
     "232ec42bf0c94984a1053e1b0070d7a8": {
      "model_module": "@jupyter-widgets/controls",
      "model_module_version": "2.0.0",
      "model_name": "HTMLStyleModel",
      "state": {
       "description_width": "",
       "font_size": null,
       "text_color": null
      }
     },
     "24d8dedc9d504b99b3132511c58234cb": {
      "model_module": "@jupyter-widgets/controls",
      "model_module_version": "2.0.0",
      "model_name": "HTMLStyleModel",
      "state": {
       "description_width": "",
       "font_size": null,
       "text_color": null
      }
     },
     "26428baf4ff340bf8efe7a88a0748039": {
      "model_module": "@jupyter-widgets/controls",
      "model_module_version": "2.0.0",
      "model_name": "ProgressStyleModel",
      "state": {
       "description_width": ""
      }
     },
     "2670245860544f219d0b48f804735f67": {
      "model_module": "@jupyter-widgets/base",
      "model_module_version": "2.0.0",
      "model_name": "LayoutModel",
      "state": {}
     },
     "27608db5e30d456fbc3942cbe025444c": {
      "model_module": "@jupyter-widgets/controls",
      "model_module_version": "2.0.0",
      "model_name": "HTMLModel",
      "state": {
       "layout": "IPY_MODEL_c73b2ed37369430195d5bebb951c4f1a",
       "style": "IPY_MODEL_5886730f36ab4d0abda0fef89a238c4b",
       "value": "  0%"
      }
     },
     "27c507a105b040cab9d62b4a7f4b136b": {
      "model_module": "@jupyter-widgets/controls",
      "model_module_version": "2.0.0",
      "model_name": "HTMLModel",
      "state": {
       "layout": "IPY_MODEL_f67732f8af3442c3940a53c316d836b3",
       "style": "IPY_MODEL_a0e5092259f743f8a829abca47171939",
       "value": " 10/10 [00:00&lt;00:00, 97.35it/s]"
      }
     },
     "27eb76b399994b5097cd487337ec77d8": {
      "model_module": "@jupyter-widgets/base",
      "model_module_version": "2.0.0",
      "model_name": "LayoutModel",
      "state": {
       "visibility": "hidden"
      }
     },
     "286e7a4439ef4e9cb75e16efbc5b8f92": {
      "model_module": "@jupyter-widgets/controls",
      "model_module_version": "2.0.0",
      "model_name": "FloatProgressModel",
      "state": {
       "layout": "IPY_MODEL_13867cb6a727465fa567ea0b0fa72543",
       "max": 10,
       "style": "IPY_MODEL_2dc0f7b378274745b4e30035b1db38c2",
       "value": 10
      }
     },
     "291784d4328a4b0497b43454057a1e06": {
      "model_module": "@jupyter-widgets/controls",
      "model_module_version": "2.0.0",
      "model_name": "HTMLStyleModel",
      "state": {
       "description_width": "",
       "font_size": null,
       "text_color": null
      }
     },
     "29921ac3ac424b7fa1aaa2a0cb64f584": {
      "model_module": "@jupyter-widgets/base",
      "model_module_version": "2.0.0",
      "model_name": "LayoutModel",
      "state": {
       "visibility": "hidden"
      }
     },
     "2a560ac887af4e769b63e9c0c0884a08": {
      "model_module": "@jupyter-widgets/controls",
      "model_module_version": "2.0.0",
      "model_name": "FloatProgressModel",
      "state": {
       "layout": "IPY_MODEL_b59b3cde9b984c88b9542bf59247585f",
       "max": 10,
       "style": "IPY_MODEL_26428baf4ff340bf8efe7a88a0748039",
       "value": 10
      }
     },
     "2da72292b95a44ee95e3502f86248f68": {
      "model_module": "@jupyter-widgets/controls",
      "model_module_version": "2.0.0",
      "model_name": "FloatProgressModel",
      "state": {
       "layout": "IPY_MODEL_a19fb4e89426463eb57afdac67330554",
       "max": 10,
       "style": "IPY_MODEL_4166de05ebc2408d896b3e8c73b1928d",
       "value": 10
      }
     },
     "2dc0f7b378274745b4e30035b1db38c2": {
      "model_module": "@jupyter-widgets/controls",
      "model_module_version": "2.0.0",
      "model_name": "ProgressStyleModel",
      "state": {
       "description_width": ""
      }
     },
     "30e10f8890264589b494b3ff41b1e4ab": {
      "model_module": "@jupyter-widgets/controls",
      "model_module_version": "2.0.0",
      "model_name": "HTMLModel",
      "state": {
       "layout": "IPY_MODEL_e040f920d3e24ef085a071ae431e2da2",
       "style": "IPY_MODEL_7c1bbbc3c7aa4586b6c11779863d72c3",
       "value": "  0%"
      }
     },
     "31cb18169a834950a9d7dfd71e074033": {
      "model_module": "@jupyter-widgets/controls",
      "model_module_version": "2.0.0",
      "model_name": "HTMLModel",
      "state": {
       "layout": "IPY_MODEL_b984d9f1a78b4ceb995f84fe4af6c268",
       "style": "IPY_MODEL_0c5bee7579764e6f968b54247d455cd7",
       "value": "100%"
      }
     },
     "31cf9c1da70f4688b649b44de09af2bb": {
      "model_module": "@jupyter-widgets/base",
      "model_module_version": "2.0.0",
      "model_name": "LayoutModel",
      "state": {}
     },
     "3334c22bcbf44371bd47154ceec807c1": {
      "model_module": "@jupyter-widgets/controls",
      "model_module_version": "2.0.0",
      "model_name": "HTMLStyleModel",
      "state": {
       "description_width": "",
       "font_size": null,
       "text_color": null
      }
     },
     "33438958be384331b782408e49023ff7": {
      "model_module": "@jupyter-widgets/controls",
      "model_module_version": "2.0.0",
      "model_name": "HTMLStyleModel",
      "state": {
       "description_width": "",
       "font_size": null,
       "text_color": null
      }
     },
     "34076778f9b44a91a085ba190e40f77e": {
      "model_module": "@jupyter-widgets/controls",
      "model_module_version": "2.0.0",
      "model_name": "HTMLStyleModel",
      "state": {
       "description_width": "",
       "font_size": null,
       "text_color": null
      }
     },
     "3855c68d2fc24a60a3d4ad905f2fd065": {
      "model_module": "@jupyter-widgets/controls",
      "model_module_version": "2.0.0",
      "model_name": "HTMLStyleModel",
      "state": {
       "description_width": "",
       "font_size": null,
       "text_color": null
      }
     },
     "398978cb6bd24e178ec66c9b576b2dbe": {
      "model_module": "@jupyter-widgets/base",
      "model_module_version": "2.0.0",
      "model_name": "LayoutModel",
      "state": {
       "visibility": "hidden"
      }
     },
     "3a23186c0d0d42faafb968a639713e1b": {
      "model_module": "@jupyter-widgets/controls",
      "model_module_version": "2.0.0",
      "model_name": "HTMLModel",
      "state": {
       "layout": "IPY_MODEL_9f60b223a8584f3cafd138535189a7d7",
       "style": "IPY_MODEL_ef79322ebd3e49f0809f64d30c30a3bb",
       "value": " 0/10 [00:00&lt;?, ?it/s]"
      }
     },
     "3cf42b1153674722ac27197716c33bfd": {
      "model_module": "@jupyter-widgets/base",
      "model_module_version": "2.0.0",
      "model_name": "LayoutModel",
      "state": {}
     },
     "3e4c6ddf897a4a5fbf07a3b7d68290d5": {
      "model_module": "@jupyter-widgets/controls",
      "model_module_version": "2.0.0",
      "model_name": "HTMLStyleModel",
      "state": {
       "description_width": "",
       "font_size": null,
       "text_color": null
      }
     },
     "4166de05ebc2408d896b3e8c73b1928d": {
      "model_module": "@jupyter-widgets/controls",
      "model_module_version": "2.0.0",
      "model_name": "ProgressStyleModel",
      "state": {
       "description_width": ""
      }
     },
     "439ef816924248e9bb70f82fa94b81de": {
      "model_module": "@jupyter-widgets/controls",
      "model_module_version": "2.0.0",
      "model_name": "HTMLStyleModel",
      "state": {
       "description_width": "",
       "font_size": null,
       "text_color": null
      }
     },
     "44a60cd1146b4c37a7c0ea8ffeb3514d": {
      "model_module": "@jupyter-widgets/controls",
      "model_module_version": "2.0.0",
      "model_name": "HTMLStyleModel",
      "state": {
       "description_width": "",
       "font_size": null,
       "text_color": null
      }
     },
     "4558aaf61b434099881c472820fe1f28": {
      "model_module": "@jupyter-widgets/controls",
      "model_module_version": "2.0.0",
      "model_name": "HTMLStyleModel",
      "state": {
       "description_width": "",
       "font_size": null,
       "text_color": null
      }
     },
     "45c62bcbbabb4ed9ba97111213140353": {
      "model_module": "@jupyter-widgets/base",
      "model_module_version": "2.0.0",
      "model_name": "LayoutModel",
      "state": {}
     },
     "47e6ffbffdbe4d3e958464bf5edc0a1a": {
      "model_module": "@jupyter-widgets/controls",
      "model_module_version": "2.0.0",
      "model_name": "FloatProgressModel",
      "state": {
       "layout": "IPY_MODEL_5672a3303c9e4f3b9158f8ce1dff5258",
       "max": 10,
       "style": "IPY_MODEL_02990abe0d7444b6bb30a83768efeb04",
       "value": 10
      }
     },
     "48d3f356e7d047b18e2bda867f240a42": {
      "model_module": "@jupyter-widgets/controls",
      "model_module_version": "2.0.0",
      "model_name": "HTMLModel",
      "state": {
       "layout": "IPY_MODEL_7d643c9f04494dc7a80cfa3fd504ec72",
       "style": "IPY_MODEL_44a60cd1146b4c37a7c0ea8ffeb3514d",
       "value": "  0%"
      }
     },
     "48ec6e1bb1e7489b858e066c2067ec25": {
      "model_module": "@jupyter-widgets/base",
      "model_module_version": "2.0.0",
      "model_name": "LayoutModel",
      "state": {}
     },
     "4b81230d5f3d4440a85ced5067ff90b7": {
      "model_module": "@jupyter-widgets/controls",
      "model_module_version": "2.0.0",
      "model_name": "HTMLModel",
      "state": {
       "layout": "IPY_MODEL_ed2e2918a1d84f3b9b6a1369fa84209e",
       "style": "IPY_MODEL_7baede1fafb04d58af120c387086998f",
       "value": " 0/10 [00:00&lt;?, ?it/s]"
      }
     },
     "4b85b02b7ddb4e3dab64052e0a375fdd": {
      "model_module": "@jupyter-widgets/controls",
      "model_module_version": "2.0.0",
      "model_name": "HTMLModel",
      "state": {
       "layout": "IPY_MODEL_e49b007a92c24f05ad97160ae5c13718",
       "style": "IPY_MODEL_79172e66fa47429e8bf162c073efea36",
       "value": "  0%"
      }
     },
     "4cf1e518b13d40008369c13fbe19dd74": {
      "model_module": "@jupyter-widgets/controls",
      "model_module_version": "2.0.0",
      "model_name": "HTMLModel",
      "state": {
       "layout": "IPY_MODEL_a601f64ae21348838320495f89f75e13",
       "style": "IPY_MODEL_c23e41a0e25c4ff1a5650582235f3ab9",
       "value": " 0/10 [00:00&lt;?, ?it/s]"
      }
     },
     "4d57a6cab7dd47088e31640053dec1fc": {
      "model_module": "@jupyter-widgets/controls",
      "model_module_version": "2.0.0",
      "model_name": "HTMLModel",
      "state": {
       "layout": "IPY_MODEL_e21227a7c70c4af08d1ebc39d32176a3",
       "style": "IPY_MODEL_59f63a1378ab4203ae81b1fcc2b3bde9",
       "value": "  0%"
      }
     },
     "4e43f4f890c24affb2ff70771cc01312": {
      "model_module": "@jupyter-widgets/controls",
      "model_module_version": "2.0.0",
      "model_name": "HTMLStyleModel",
      "state": {
       "description_width": "",
       "font_size": null,
       "text_color": null
      }
     },
     "4eb1a004b2cc43c39264b8c2e01f2d8d": {
      "model_module": "@jupyter-widgets/controls",
      "model_module_version": "2.0.0",
      "model_name": "FloatProgressModel",
      "state": {
       "layout": "IPY_MODEL_e4be572bd9c6491f81b73040624a43c0",
       "max": 10,
       "style": "IPY_MODEL_dd5c789cb6af454cbf65429803d4e737",
       "value": 10
      }
     },
     "50d4474a4b714c5a97dd43e7e9dc189b": {
      "model_module": "@jupyter-widgets/controls",
      "model_module_version": "2.0.0",
      "model_name": "HTMLStyleModel",
      "state": {
       "description_width": "",
       "font_size": null,
       "text_color": null
      }
     },
     "5100eb716388413fae40131d41f6f185": {
      "model_module": "@jupyter-widgets/base",
      "model_module_version": "2.0.0",
      "model_name": "LayoutModel",
      "state": {
       "visibility": "hidden"
      }
     },
     "5279471b27e64a90b4d6ee545cba6b18": {
      "model_module": "@jupyter-widgets/controls",
      "model_module_version": "2.0.0",
      "model_name": "HTMLModel",
      "state": {
       "layout": "IPY_MODEL_829bd847f7124c48bd2775095c0141c6",
       "style": "IPY_MODEL_eaf34f9ef510434c88a30a803dca20fe",
       "value": " 0/10 [00:00&lt;?, ?it/s]"
      }
     },
     "52faf8f75c6d4307aeb1dadf8fb7e7f5": {
      "model_module": "@jupyter-widgets/base",
      "model_module_version": "2.0.0",
      "model_name": "LayoutModel",
      "state": {
       "visibility": "hidden"
      }
     },
     "547cd95ae8624342a0ef673bad57af48": {
      "model_module": "@jupyter-widgets/controls",
      "model_module_version": "2.0.0",
      "model_name": "ProgressStyleModel",
      "state": {
       "description_width": ""
      }
     },
     "54ef75fb5a9246e1a88264e52e3e8241": {
      "model_module": "@jupyter-widgets/base",
      "model_module_version": "2.0.0",
      "model_name": "LayoutModel",
      "state": {}
     },
     "554386b4347e4f1da119bf9279ed604a": {
      "model_module": "@jupyter-widgets/base",
      "model_module_version": "2.0.0",
      "model_name": "LayoutModel",
      "state": {}
     },
     "5672a3303c9e4f3b9158f8ce1dff5258": {
      "model_module": "@jupyter-widgets/base",
      "model_module_version": "2.0.0",
      "model_name": "LayoutModel",
      "state": {}
     },
     "5886730f36ab4d0abda0fef89a238c4b": {
      "model_module": "@jupyter-widgets/controls",
      "model_module_version": "2.0.0",
      "model_name": "HTMLStyleModel",
      "state": {
       "description_width": "",
       "font_size": null,
       "text_color": null
      }
     },
     "59f63a1378ab4203ae81b1fcc2b3bde9": {
      "model_module": "@jupyter-widgets/controls",
      "model_module_version": "2.0.0",
      "model_name": "HTMLStyleModel",
      "state": {
       "description_width": "",
       "font_size": null,
       "text_color": null
      }
     },
     "5ab11855bd1f40088d59a5931c11d706": {
      "model_module": "@jupyter-widgets/controls",
      "model_module_version": "2.0.0",
      "model_name": "HTMLModel",
      "state": {
       "layout": "IPY_MODEL_f58ce7229214407e969898341b03cc68",
       "style": "IPY_MODEL_c9054cb2492c407d93bbffebe5a62ae1",
       "value": " 0/10 [00:00&lt;?, ?it/s]"
      }
     },
     "5c22244fa5fd46ff88cb2329924dffa5": {
      "model_module": "@jupyter-widgets/controls",
      "model_module_version": "2.0.0",
      "model_name": "HTMLModel",
      "state": {
       "layout": "IPY_MODEL_8e17411d942b423faa791f8ef41121b2",
       "style": "IPY_MODEL_68d171d986cf4460a4652f7a164e1129",
       "value": "  0%"
      }
     },
     "5c2bf3f89d2249b2b82236ff0a0491d3": {
      "model_module": "@jupyter-widgets/base",
      "model_module_version": "2.0.0",
      "model_name": "LayoutModel",
      "state": {
       "visibility": "hidden"
      }
     },
     "5f2067dcbd7e44f98b69d986899df542": {
      "model_module": "@jupyter-widgets/controls",
      "model_module_version": "2.0.0",
      "model_name": "FloatProgressModel",
      "state": {
       "layout": "IPY_MODEL_45c62bcbbabb4ed9ba97111213140353",
       "max": 10,
       "style": "IPY_MODEL_e1f29a71b9c444498fafe2e8431797b6",
       "value": 10
      }
     },
     "6359f91702c3484c9d9a684f1dba49ea": {
      "model_module": "@jupyter-widgets/base",
      "model_module_version": "2.0.0",
      "model_name": "LayoutModel",
      "state": {}
     },
     "63dc6c7adf3d4b4292d3c41a8b87d394": {
      "model_module": "@jupyter-widgets/controls",
      "model_module_version": "2.0.0",
      "model_name": "HTMLModel",
      "state": {
       "layout": "IPY_MODEL_9b9fa9c994344c71b00b56407dca6951",
       "style": "IPY_MODEL_3855c68d2fc24a60a3d4ad905f2fd065",
       "value": "  0%"
      }
     },
     "656b785bf0fd471db0bbcdefc281fd60": {
      "model_module": "@jupyter-widgets/controls",
      "model_module_version": "2.0.0",
      "model_name": "HTMLStyleModel",
      "state": {
       "description_width": "",
       "font_size": null,
       "text_color": null
      }
     },
     "668f5973e77e41848fcccf93f6d3c969": {
      "model_module": "@jupyter-widgets/base",
      "model_module_version": "2.0.0",
      "model_name": "LayoutModel",
      "state": {}
     },
     "66e6b9814f934a078dc0e51a8c0fc971": {
      "model_module": "@jupyter-widgets/controls",
      "model_module_version": "2.0.0",
      "model_name": "FloatProgressModel",
      "state": {
       "layout": "IPY_MODEL_8386c3504ad3433c888b69fe7a8c1cf6",
       "max": 10,
       "style": "IPY_MODEL_08ccaf04aa7f47cdbd1b3c647f5bc23e",
       "value": 10
      }
     },
     "688970522ad94d96854f081a1c7cc5bc": {
      "model_module": "@jupyter-widgets/base",
      "model_module_version": "2.0.0",
      "model_name": "LayoutModel",
      "state": {
       "visibility": "hidden"
      }
     },
     "68d171d986cf4460a4652f7a164e1129": {
      "model_module": "@jupyter-widgets/controls",
      "model_module_version": "2.0.0",
      "model_name": "HTMLStyleModel",
      "state": {
       "description_width": "",
       "font_size": null,
       "text_color": null
      }
     },
     "690039739b144ca2a5326508c1279833": {
      "model_module": "@jupyter-widgets/base",
      "model_module_version": "2.0.0",
      "model_name": "LayoutModel",
      "state": {}
     },
     "690d47ed656b496787d02e42e5876ff9": {
      "model_module": "@jupyter-widgets/controls",
      "model_module_version": "2.0.0",
      "model_name": "HTMLStyleModel",
      "state": {
       "description_width": "",
       "font_size": null,
       "text_color": null
      }
     },
     "691bf8fe41af46dd9fbb9a9962ce4d9c": {
      "model_module": "@jupyter-widgets/base",
      "model_module_version": "2.0.0",
      "model_name": "LayoutModel",
      "state": {}
     },
     "6bfbdb0a39ab406e9190ce7235abfd1e": {
      "model_module": "@jupyter-widgets/base",
      "model_module_version": "2.0.0",
      "model_name": "LayoutModel",
      "state": {}
     },
     "6e9fc7f6630a403b82f7645e30695688": {
      "model_module": "@jupyter-widgets/controls",
      "model_module_version": "2.0.0",
      "model_name": "HTMLStyleModel",
      "state": {
       "description_width": "",
       "font_size": null,
       "text_color": null
      }
     },
     "6f9614c2d6d548389dee29d823361e28": {
      "model_module": "@jupyter-widgets/controls",
      "model_module_version": "2.0.0",
      "model_name": "FloatProgressModel",
      "state": {
       "layout": "IPY_MODEL_a1f57aeb1828445dac5bc3cfab57a4ae",
       "max": 10,
       "style": "IPY_MODEL_1a601f25503f47418aaaeefb31d61e66",
       "value": 10
      }
     },
     "7315784124d14bf8bd2ac59a07388b0a": {
      "model_module": "@jupyter-widgets/controls",
      "model_module_version": "2.0.0",
      "model_name": "HTMLModel",
      "state": {
       "layout": "IPY_MODEL_668f5973e77e41848fcccf93f6d3c969",
       "style": "IPY_MODEL_c98b69cc822f49dd91a9c690614dc930",
       "value": " 0/10 [00:00&lt;?, ?it/s]"
      }
     },
     "774fa2734e0d4d77a8b7c7c88238df0e": {
      "model_module": "@jupyter-widgets/controls",
      "model_module_version": "2.0.0",
      "model_name": "HTMLStyleModel",
      "state": {
       "description_width": "",
       "font_size": null,
       "text_color": null
      }
     },
     "7903081841384d9bb946a5ba03c64204": {
      "model_module": "@jupyter-widgets/base",
      "model_module_version": "2.0.0",
      "model_name": "LayoutModel",
      "state": {}
     },
     "79172e66fa47429e8bf162c073efea36": {
      "model_module": "@jupyter-widgets/controls",
      "model_module_version": "2.0.0",
      "model_name": "HTMLStyleModel",
      "state": {
       "description_width": "",
       "font_size": null,
       "text_color": null
      }
     },
     "7baede1fafb04d58af120c387086998f": {
      "model_module": "@jupyter-widgets/controls",
      "model_module_version": "2.0.0",
      "model_name": "HTMLStyleModel",
      "state": {
       "description_width": "",
       "font_size": null,
       "text_color": null
      }
     },
     "7bff7a8fd59048859d440596d49212ce": {
      "model_module": "@jupyter-widgets/controls",
      "model_module_version": "2.0.0",
      "model_name": "FloatProgressModel",
      "state": {
       "layout": "IPY_MODEL_54ef75fb5a9246e1a88264e52e3e8241",
       "max": 10,
       "style": "IPY_MODEL_8e003e8fe57d4a7b87d49371c0479973",
       "value": 10
      }
     },
     "7c1bbbc3c7aa4586b6c11779863d72c3": {
      "model_module": "@jupyter-widgets/controls",
      "model_module_version": "2.0.0",
      "model_name": "HTMLStyleModel",
      "state": {
       "description_width": "",
       "font_size": null,
       "text_color": null
      }
     },
     "7d643c9f04494dc7a80cfa3fd504ec72": {
      "model_module": "@jupyter-widgets/base",
      "model_module_version": "2.0.0",
      "model_name": "LayoutModel",
      "state": {}
     },
     "7dcf8ce1d69041899ac33ddd18b42177": {
      "model_module": "@jupyter-widgets/base",
      "model_module_version": "2.0.0",
      "model_name": "LayoutModel",
      "state": {}
     },
     "7e09b5c20a9547beb9b766a9b9e4f6e0": {
      "model_module": "@jupyter-widgets/controls",
      "model_module_version": "2.0.0",
      "model_name": "HTMLModel",
      "state": {
       "layout": "IPY_MODEL_add69d7810d44d8ea97f547afc19d0d8",
       "style": "IPY_MODEL_b9c5f3688ef84e5d8c99fcbe5d0abe92",
       "value": "  0%"
      }
     },
     "7e6acabeeb7743e5be2769b209f30394": {
      "model_module": "@jupyter-widgets/controls",
      "model_module_version": "2.0.0",
      "model_name": "FloatProgressModel",
      "state": {
       "layout": "IPY_MODEL_c5c16a816fd34d2984a1ca091be77173",
       "max": 10,
       "style": "IPY_MODEL_f4b82856129b4813bb0f25d5182e79de",
       "value": 10
      }
     },
     "80af628bfd4d4489a5e21e60d38ee534": {
      "model_module": "@jupyter-widgets/base",
      "model_module_version": "2.0.0",
      "model_name": "LayoutModel",
      "state": {
       "visibility": "hidden"
      }
     },
     "829bd847f7124c48bd2775095c0141c6": {
      "model_module": "@jupyter-widgets/base",
      "model_module_version": "2.0.0",
      "model_name": "LayoutModel",
      "state": {}
     },
     "8386c3504ad3433c888b69fe7a8c1cf6": {
      "model_module": "@jupyter-widgets/base",
      "model_module_version": "2.0.0",
      "model_name": "LayoutModel",
      "state": {}
     },
     "83ca145a374e4a69a4eadf54f91d6077": {
      "model_module": "@jupyter-widgets/controls",
      "model_module_version": "2.0.0",
      "model_name": "ProgressStyleModel",
      "state": {
       "description_width": ""
      }
     },
     "84e5d039d99d455cbd048a12e7749592": {
      "model_module": "@jupyter-widgets/controls",
      "model_module_version": "2.0.0",
      "model_name": "FloatProgressModel",
      "state": {
       "layout": "IPY_MODEL_af913d5d527f44eb95d3d6c65b0f42ca",
       "max": 10,
       "style": "IPY_MODEL_0f835c99ce664e3d93428d83a2298449",
       "value": 10
      }
     },
     "8681fcaaeae144a2aaabc3e8469698a4": {
      "model_module": "@jupyter-widgets/controls",
      "model_module_version": "2.0.0",
      "model_name": "ProgressStyleModel",
      "state": {
       "description_width": ""
      }
     },
     "86a2569e86354101b5d7b45ff08fd0cc": {
      "model_module": "@jupyter-widgets/controls",
      "model_module_version": "2.0.0",
      "model_name": "HTMLStyleModel",
      "state": {
       "description_width": "",
       "font_size": null,
       "text_color": null
      }
     },
     "87ecc490691144ccadbda088de529820": {
      "model_module": "@jupyter-widgets/controls",
      "model_module_version": "2.0.0",
      "model_name": "HTMLModel",
      "state": {
       "layout": "IPY_MODEL_7dcf8ce1d69041899ac33ddd18b42177",
       "style": "IPY_MODEL_88d01a847e714c9fb022012889bf2825",
       "value": " 0/10 [00:00&lt;?, ?it/s]"
      }
     },
     "88d01a847e714c9fb022012889bf2825": {
      "model_module": "@jupyter-widgets/controls",
      "model_module_version": "2.0.0",
      "model_name": "HTMLStyleModel",
      "state": {
       "description_width": "",
       "font_size": null,
       "text_color": null
      }
     },
     "8e003e8fe57d4a7b87d49371c0479973": {
      "model_module": "@jupyter-widgets/controls",
      "model_module_version": "2.0.0",
      "model_name": "ProgressStyleModel",
      "state": {
       "description_width": ""
      }
     },
     "8e17411d942b423faa791f8ef41121b2": {
      "model_module": "@jupyter-widgets/base",
      "model_module_version": "2.0.0",
      "model_name": "LayoutModel",
      "state": {}
     },
     "8ecb7c86055a4c4da5512dd00be645df": {
      "model_module": "@jupyter-widgets/controls",
      "model_module_version": "2.0.0",
      "model_name": "HBoxModel",
      "state": {
       "children": [
        "IPY_MODEL_31cb18169a834950a9d7dfd71e074033",
        "IPY_MODEL_00c9164e8f994137ac9a8e7ee85c032f",
        "IPY_MODEL_c7a8d2efde7c41dfb6803a37db0a101f"
       ],
       "layout": "IPY_MODEL_bdd5a89a38264042b6d477a4276a1633"
      }
     },
     "938bb9f8cbe34ae698864d86eba063c6": {
      "model_module": "@jupyter-widgets/controls",
      "model_module_version": "2.0.0",
      "model_name": "HTMLModel",
      "state": {
       "layout": "IPY_MODEL_a77246205cb142df8106364240106ac4",
       "style": "IPY_MODEL_24d8dedc9d504b99b3132511c58234cb",
       "value": " 0/10 [00:00&lt;?, ?it/s]"
      }
     },
     "944e4615e5034902996aacb243285488": {
      "model_module": "@jupyter-widgets/controls",
      "model_module_version": "2.0.0",
      "model_name": "HTMLModel",
      "state": {
       "layout": "IPY_MODEL_a6822a134ce1419cbc91bfebab28e088",
       "style": "IPY_MODEL_4e43f4f890c24affb2ff70771cc01312",
       "value": "  0%"
      }
     },
     "959591af356d43eeb7e25d495774b406": {
      "model_module": "@jupyter-widgets/base",
      "model_module_version": "2.0.0",
      "model_name": "LayoutModel",
      "state": {
       "visibility": "hidden"
      }
     },
     "960b22680c404c91b546036f7527ebd5": {
      "model_module": "@jupyter-widgets/base",
      "model_module_version": "2.0.0",
      "model_name": "LayoutModel",
      "state": {
       "visibility": "hidden"
      }
     },
     "96f7924aaced4278817149ac6c0c5754": {
      "model_module": "@jupyter-widgets/base",
      "model_module_version": "2.0.0",
      "model_name": "LayoutModel",
      "state": {
       "visibility": "hidden"
      }
     },
     "974119760d96461989a8079a8625350d": {
      "model_module": "@jupyter-widgets/controls",
      "model_module_version": "2.0.0",
      "model_name": "FloatProgressModel",
      "state": {
       "layout": "IPY_MODEL_afc0323a43c446e9aab621b47eb8ff64",
       "max": 10,
       "style": "IPY_MODEL_8681fcaaeae144a2aaabc3e8469698a4",
       "value": 10
      }
     },
     "991827b57cad4c75aab3555674174aca": {
      "model_module": "@jupyter-widgets/controls",
      "model_module_version": "2.0.0",
      "model_name": "HTMLStyleModel",
      "state": {
       "description_width": "",
       "font_size": null,
       "text_color": null
      }
     },
     "9a10a3c3a17b42e2b853593085e385f6": {
      "model_module": "@jupyter-widgets/controls",
      "model_module_version": "2.0.0",
      "model_name": "HTMLModel",
      "state": {
       "layout": "IPY_MODEL_9f40b1d382b84bb585c3e3a95988c8f8",
       "style": "IPY_MODEL_291784d4328a4b0497b43454057a1e06",
       "value": "  0%"
      }
     },
     "9a30efd319f14ca3bf34fefa1b894b73": {
      "model_module": "@jupyter-widgets/controls",
      "model_module_version": "2.0.0",
      "model_name": "HTMLModel",
      "state": {
       "layout": "IPY_MODEL_690039739b144ca2a5326508c1279833",
       "style": "IPY_MODEL_01d5c6b5551e4e0f943edd0cd3c95fdd",
       "value": "  0%"
      }
     },
     "9a608b0e6d4a4bb69249ebebe95af47a": {
      "model_module": "@jupyter-widgets/base",
      "model_module_version": "2.0.0",
      "model_name": "LayoutModel",
      "state": {}
     },
     "9a6a62585e3e4b2a9e2454c3b7caa972": {
      "model_module": "@jupyter-widgets/base",
      "model_module_version": "2.0.0",
      "model_name": "LayoutModel",
      "state": {}
     },
     "9a867e163cf14f1f9ccc44f2285b9bab": {
      "model_module": "@jupyter-widgets/controls",
      "model_module_version": "2.0.0",
      "model_name": "HTMLModel",
      "state": {
       "layout": "IPY_MODEL_1780626dee4b4912b845e0f16fd46e52",
       "style": "IPY_MODEL_06498083057b458191157129810a6a1a",
       "value": " 0/10 [00:00&lt;?, ?it/s]"
      }
     },
     "9b9fa9c994344c71b00b56407dca6951": {
      "model_module": "@jupyter-widgets/base",
      "model_module_version": "2.0.0",
      "model_name": "LayoutModel",
      "state": {}
     },
     "9bba9689dc65470ba47288fd37243ebb": {
      "model_module": "@jupyter-widgets/controls",
      "model_module_version": "2.0.0",
      "model_name": "HTMLModel",
      "state": {
       "layout": "IPY_MODEL_b05e889bef354147ad1a11a91eee64fb",
       "style": "IPY_MODEL_152a9eda599e4a4ca21c8cc5c5859683",
       "value": "  0%"
      }
     },
     "9c29ad32c7d849aa8cba511261ba74e1": {
      "model_module": "@jupyter-widgets/controls",
      "model_module_version": "2.0.0",
      "model_name": "ProgressStyleModel",
      "state": {
       "description_width": ""
      }
     },
     "9f020edfd4ec418ab01d4584bb1dfe89": {
      "model_module": "@jupyter-widgets/base",
      "model_module_version": "2.0.0",
      "model_name": "LayoutModel",
      "state": {
       "visibility": "hidden"
      }
     },
     "9f40b1d382b84bb585c3e3a95988c8f8": {
      "model_module": "@jupyter-widgets/base",
      "model_module_version": "2.0.0",
      "model_name": "LayoutModel",
      "state": {}
     },
     "9f60b223a8584f3cafd138535189a7d7": {
      "model_module": "@jupyter-widgets/base",
      "model_module_version": "2.0.0",
      "model_name": "LayoutModel",
      "state": {}
     },
     "a0a5a0d6c2cd4627ba7fc67ee50adb66": {
      "model_module": "@jupyter-widgets/controls",
      "model_module_version": "2.0.0",
      "model_name": "HTMLModel",
      "state": {
       "layout": "IPY_MODEL_d87deb0bfd824c868aac30f1138c75ec",
       "style": "IPY_MODEL_3e4c6ddf897a4a5fbf07a3b7d68290d5",
       "value": " 0/10 [00:00&lt;?, ?it/s]"
      }
     },
     "a0e5092259f743f8a829abca47171939": {
      "model_module": "@jupyter-widgets/controls",
      "model_module_version": "2.0.0",
      "model_name": "HTMLStyleModel",
      "state": {
       "description_width": "",
       "font_size": null,
       "text_color": null
      }
     },
     "a19fb4e89426463eb57afdac67330554": {
      "model_module": "@jupyter-widgets/base",
      "model_module_version": "2.0.0",
      "model_name": "LayoutModel",
      "state": {}
     },
     "a1f57aeb1828445dac5bc3cfab57a4ae": {
      "model_module": "@jupyter-widgets/base",
      "model_module_version": "2.0.0",
      "model_name": "LayoutModel",
      "state": {}
     },
     "a3ea56a7c97f474994249f5d729874d1": {
      "model_module": "@jupyter-widgets/controls",
      "model_module_version": "2.0.0",
      "model_name": "ProgressStyleModel",
      "state": {
       "description_width": ""
      }
     },
     "a45eef8632e241fbb280556a84c8afb4": {
      "model_module": "@jupyter-widgets/controls",
      "model_module_version": "2.0.0",
      "model_name": "FloatProgressModel",
      "state": {
       "layout": "IPY_MODEL_bbb30857ccdf4c0b88a849f61619cba2",
       "max": 10,
       "style": "IPY_MODEL_9c29ad32c7d849aa8cba511261ba74e1",
       "value": 10
      }
     },
     "a601f64ae21348838320495f89f75e13": {
      "model_module": "@jupyter-widgets/base",
      "model_module_version": "2.0.0",
      "model_name": "LayoutModel",
      "state": {}
     },
     "a629006fa73147369276ed90154108c5": {
      "model_module": "@jupyter-widgets/controls",
      "model_module_version": "2.0.0",
      "model_name": "HTMLModel",
      "state": {
       "layout": "IPY_MODEL_7903081841384d9bb946a5ba03c64204",
       "style": "IPY_MODEL_34076778f9b44a91a085ba190e40f77e",
       "value": "  0%"
      }
     },
     "a6822a134ce1419cbc91bfebab28e088": {
      "model_module": "@jupyter-widgets/base",
      "model_module_version": "2.0.0",
      "model_name": "LayoutModel",
      "state": {}
     },
     "a77246205cb142df8106364240106ac4": {
      "model_module": "@jupyter-widgets/base",
      "model_module_version": "2.0.0",
      "model_name": "LayoutModel",
      "state": {}
     },
     "a950a079e3a24a52b3407c7164bd8dfc": {
      "model_module": "@jupyter-widgets/controls",
      "model_module_version": "2.0.0",
      "model_name": "HTMLStyleModel",
      "state": {
       "description_width": "",
       "font_size": null,
       "text_color": null
      }
     },
     "a9a45144b5694dfda13cf7374154d601": {
      "model_module": "@jupyter-widgets/controls",
      "model_module_version": "2.0.0",
      "model_name": "HTMLModel",
      "state": {
       "layout": "IPY_MODEL_554386b4347e4f1da119bf9279ed604a",
       "style": "IPY_MODEL_e0ec498b2085481f887ad61cc99c6f81",
       "value": " 0/10 [00:00&lt;?, ?it/s]"
      }
     },
     "ac33a9401e7043e69d556edd9ba097d8": {
      "model_module": "@jupyter-widgets/base",
      "model_module_version": "2.0.0",
      "model_name": "LayoutModel",
      "state": {}
     },
     "acc1cd04b55a4701b009d655a028c911": {
      "model_module": "@jupyter-widgets/base",
      "model_module_version": "2.0.0",
      "model_name": "LayoutModel",
      "state": {}
     },
     "acd75e3dd9c8421385ce650d34d1cbfd": {
      "model_module": "@jupyter-widgets/controls",
      "model_module_version": "2.0.0",
      "model_name": "ProgressStyleModel",
      "state": {
       "description_width": ""
      }
     },
     "add69d7810d44d8ea97f547afc19d0d8": {
      "model_module": "@jupyter-widgets/base",
      "model_module_version": "2.0.0",
      "model_name": "LayoutModel",
      "state": {}
     },
     "af913d5d527f44eb95d3d6c65b0f42ca": {
      "model_module": "@jupyter-widgets/base",
      "model_module_version": "2.0.0",
      "model_name": "LayoutModel",
      "state": {}
     },
     "afc0323a43c446e9aab621b47eb8ff64": {
      "model_module": "@jupyter-widgets/base",
      "model_module_version": "2.0.0",
      "model_name": "LayoutModel",
      "state": {}
     },
     "b05e889bef354147ad1a11a91eee64fb": {
      "model_module": "@jupyter-widgets/base",
      "model_module_version": "2.0.0",
      "model_name": "LayoutModel",
      "state": {}
     },
     "b310878cd63c427a87906c0ccace8a71": {
      "model_module": "@jupyter-widgets/controls",
      "model_module_version": "2.0.0",
      "model_name": "HTMLModel",
      "state": {
       "layout": "IPY_MODEL_207813a73f124b69943a3e020593f8f2",
       "style": "IPY_MODEL_07d01055be274a8bad358d18ebb09255",
       "value": " 0/10 [00:00&lt;?, ?it/s]"
      }
     },
     "b328a06c3cad437586d474330d962903": {
      "model_module": "@jupyter-widgets/controls",
      "model_module_version": "2.0.0",
      "model_name": "HTMLModel",
      "state": {
       "layout": "IPY_MODEL_10c01852cc2944f980ffabf050cba870",
       "style": "IPY_MODEL_656b785bf0fd471db0bbcdefc281fd60",
       "value": "  0%"
      }
     },
     "b59b3cde9b984c88b9542bf59247585f": {
      "model_module": "@jupyter-widgets/base",
      "model_module_version": "2.0.0",
      "model_name": "LayoutModel",
      "state": {}
     },
     "b984d9f1a78b4ceb995f84fe4af6c268": {
      "model_module": "@jupyter-widgets/base",
      "model_module_version": "2.0.0",
      "model_name": "LayoutModel",
      "state": {}
     },
     "b9c5f3688ef84e5d8c99fcbe5d0abe92": {
      "model_module": "@jupyter-widgets/controls",
      "model_module_version": "2.0.0",
      "model_name": "HTMLStyleModel",
      "state": {
       "description_width": "",
       "font_size": null,
       "text_color": null
      }
     },
     "bb244dd001934bea98042ef39b3e571c": {
      "model_module": "@jupyter-widgets/controls",
      "model_module_version": "2.0.0",
      "model_name": "FloatProgressModel",
      "state": {
       "layout": "IPY_MODEL_01206ca4b1b74084b4b1b14e22c486f3",
       "max": 10,
       "style": "IPY_MODEL_83ca145a374e4a69a4eadf54f91d6077",
       "value": 10
      }
     },
     "bb33e08fb0e04d549027f978c0a816f5": {
      "model_module": "@jupyter-widgets/controls",
      "model_module_version": "2.0.0",
      "model_name": "ProgressStyleModel",
      "state": {
       "description_width": ""
      }
     },
     "bbb30857ccdf4c0b88a849f61619cba2": {
      "model_module": "@jupyter-widgets/base",
      "model_module_version": "2.0.0",
      "model_name": "LayoutModel",
      "state": {}
     },
     "bdd5a89a38264042b6d477a4276a1633": {
      "model_module": "@jupyter-widgets/base",
      "model_module_version": "2.0.0",
      "model_name": "LayoutModel",
      "state": {}
     },
     "be25845e436e4053bb0310a1f7dbb098": {
      "model_module": "@jupyter-widgets/base",
      "model_module_version": "2.0.0",
      "model_name": "LayoutModel",
      "state": {}
     },
     "bf0e4963266b4967a52c03ba3069b66d": {
      "model_module": "@jupyter-widgets/controls",
      "model_module_version": "2.0.0",
      "model_name": "HTMLModel",
      "state": {
       "layout": "IPY_MODEL_6359f91702c3484c9d9a684f1dba49ea",
       "style": "IPY_MODEL_439ef816924248e9bb70f82fa94b81de",
       "value": " 0/10 [00:00&lt;?, ?it/s]"
      }
     },
     "c23e41a0e25c4ff1a5650582235f3ab9": {
      "model_module": "@jupyter-widgets/controls",
      "model_module_version": "2.0.0",
      "model_name": "HTMLStyleModel",
      "state": {
       "description_width": "",
       "font_size": null,
       "text_color": null
      }
     },
     "c26d91e7fcea40e19f111272284e1c2d": {
      "model_module": "@jupyter-widgets/base",
      "model_module_version": "2.0.0",
      "model_name": "LayoutModel",
      "state": {}
     },
     "c360f9dc25ab41f594775b3f05380e5a": {
      "model_module": "@jupyter-widgets/base",
      "model_module_version": "2.0.0",
      "model_name": "LayoutModel",
      "state": {}
     },
     "c373a74bb0af460fa93f115ab3e6fe9e": {
      "model_module": "@jupyter-widgets/controls",
      "model_module_version": "2.0.0",
      "model_name": "HTMLModel",
      "state": {
       "layout": "IPY_MODEL_e2f6cb6e44d04effb87542412cedb6b4",
       "style": "IPY_MODEL_4558aaf61b434099881c472820fe1f28",
       "value": " 0/10 [00:00&lt;?, ?it/s]"
      }
     },
     "c56ec8d8620845d890bf5b4841f77b62": {
      "model_module": "@jupyter-widgets/base",
      "model_module_version": "2.0.0",
      "model_name": "LayoutModel",
      "state": {}
     },
     "c5c16a816fd34d2984a1ca091be77173": {
      "model_module": "@jupyter-widgets/base",
      "model_module_version": "2.0.0",
      "model_name": "LayoutModel",
      "state": {}
     },
     "c5f7a659b04c49d393ac2d46285d8c76": {
      "model_module": "@jupyter-widgets/controls",
      "model_module_version": "2.0.0",
      "model_name": "FloatProgressModel",
      "state": {
       "layout": "IPY_MODEL_1e5350ee82b3472f96e965a26a708d84",
       "max": 10,
       "style": "IPY_MODEL_bb33e08fb0e04d549027f978c0a816f5",
       "value": 10
      }
     },
     "c73b2ed37369430195d5bebb951c4f1a": {
      "model_module": "@jupyter-widgets/base",
      "model_module_version": "2.0.0",
      "model_name": "LayoutModel",
      "state": {}
     },
     "c7a8d2efde7c41dfb6803a37db0a101f": {
      "model_module": "@jupyter-widgets/controls",
      "model_module_version": "2.0.0",
      "model_name": "HTMLModel",
      "state": {
       "layout": "IPY_MODEL_ac33a9401e7043e69d556edd9ba097d8",
       "style": "IPY_MODEL_991827b57cad4c75aab3555674174aca",
       "value": " 21/21 [00:57&lt;00:00,  2.84s/it]"
      }
     },
     "c9054cb2492c407d93bbffebe5a62ae1": {
      "model_module": "@jupyter-widgets/controls",
      "model_module_version": "2.0.0",
      "model_name": "HTMLStyleModel",
      "state": {
       "description_width": "",
       "font_size": null,
       "text_color": null
      }
     },
     "c98b69cc822f49dd91a9c690614dc930": {
      "model_module": "@jupyter-widgets/controls",
      "model_module_version": "2.0.0",
      "model_name": "HTMLStyleModel",
      "state": {
       "description_width": "",
       "font_size": null,
       "text_color": null
      }
     },
     "cc48b4f7ac0844349a4eb28fcf361a79": {
      "model_module": "@jupyter-widgets/controls",
      "model_module_version": "2.0.0",
      "model_name": "HTMLModel",
      "state": {
       "layout": "IPY_MODEL_c360f9dc25ab41f594775b3f05380e5a",
       "style": "IPY_MODEL_33438958be384331b782408e49023ff7",
       "value": " 0/10 [00:00&lt;?, ?it/s]"
      }
     },
     "cdd3606e61d042a797f824ecd52d0a94": {
      "model_module": "@jupyter-widgets/controls",
      "model_module_version": "2.0.0",
      "model_name": "FloatProgressModel",
      "state": {
       "layout": "IPY_MODEL_c26d91e7fcea40e19f111272284e1c2d",
       "max": 10,
       "style": "IPY_MODEL_0b5198bbf6eb464b9fc4bcae14df592f",
       "value": 10
      }
     },
     "ce089a2f3fd7413b932c1a79632c1f20": {
      "model_module": "@jupyter-widgets/controls",
      "model_module_version": "2.0.0",
      "model_name": "HTMLModel",
      "state": {
       "layout": "IPY_MODEL_e6e4fd8e6f1549bdbe3be6fa05b9a832",
       "style": "IPY_MODEL_50d4474a4b714c5a97dd43e7e9dc189b",
       "value": "  0%"
      }
     },
     "d153aa1fc8b44ff88b9f7c542c041dcb": {
      "model_module": "@jupyter-widgets/controls",
      "model_module_version": "2.0.0",
      "model_name": "HTMLModel",
      "state": {
       "layout": "IPY_MODEL_691bf8fe41af46dd9fbb9a9962ce4d9c",
       "style": "IPY_MODEL_6e9fc7f6630a403b82f7645e30695688",
       "value": " 0/10 [00:00&lt;?, ?it/s]"
      }
     },
     "d2002db781484f199ead9225e62d0312": {
      "model_module": "@jupyter-widgets/base",
      "model_module_version": "2.0.0",
      "model_name": "LayoutModel",
      "state": {
       "visibility": "hidden"
      }
     },
     "d4e42cb0ae3c4ed4a3207944c3c15405": {
      "model_module": "@jupyter-widgets/controls",
      "model_module_version": "2.0.0",
      "model_name": "HTMLStyleModel",
      "state": {
       "description_width": "",
       "font_size": null,
       "text_color": null
      }
     },
     "d80ef6bd1b9d4b19a9c77a66e09d2054": {
      "model_module": "@jupyter-widgets/controls",
      "model_module_version": "2.0.0",
      "model_name": "ProgressStyleModel",
      "state": {
       "description_width": ""
      }
     },
     "d87deb0bfd824c868aac30f1138c75ec": {
      "model_module": "@jupyter-widgets/base",
      "model_module_version": "2.0.0",
      "model_name": "LayoutModel",
      "state": {}
     },
     "da557236fc484cb1939941d0bf125c6f": {
      "model_module": "@jupyter-widgets/base",
      "model_module_version": "2.0.0",
      "model_name": "LayoutModel",
      "state": {
       "visibility": "hidden"
      }
     },
     "da5816a8c7fb4c35a024a957bc3c05d0": {
      "model_module": "@jupyter-widgets/base",
      "model_module_version": "2.0.0",
      "model_name": "LayoutModel",
      "state": {
       "visibility": "hidden"
      }
     },
     "da5d4d5803a1471a8c1017eb32485e63": {
      "model_module": "@jupyter-widgets/base",
      "model_module_version": "2.0.0",
      "model_name": "LayoutModel",
      "state": {}
     },
     "dd5c789cb6af454cbf65429803d4e737": {
      "model_module": "@jupyter-widgets/controls",
      "model_module_version": "2.0.0",
      "model_name": "ProgressStyleModel",
      "state": {
       "description_width": ""
      }
     },
     "e040f920d3e24ef085a071ae431e2da2": {
      "model_module": "@jupyter-widgets/base",
      "model_module_version": "2.0.0",
      "model_name": "LayoutModel",
      "state": {}
     },
     "e0ec498b2085481f887ad61cc99c6f81": {
      "model_module": "@jupyter-widgets/controls",
      "model_module_version": "2.0.0",
      "model_name": "HTMLStyleModel",
      "state": {
       "description_width": "",
       "font_size": null,
       "text_color": null
      }
     },
     "e1f29a71b9c444498fafe2e8431797b6": {
      "model_module": "@jupyter-widgets/controls",
      "model_module_version": "2.0.0",
      "model_name": "ProgressStyleModel",
      "state": {
       "description_width": ""
      }
     },
     "e21227a7c70c4af08d1ebc39d32176a3": {
      "model_module": "@jupyter-widgets/base",
      "model_module_version": "2.0.0",
      "model_name": "LayoutModel",
      "state": {}
     },
     "e2f6cb6e44d04effb87542412cedb6b4": {
      "model_module": "@jupyter-widgets/base",
      "model_module_version": "2.0.0",
      "model_name": "LayoutModel",
      "state": {}
     },
     "e35c668d53d84a4397d1584b2409cd5e": {
      "model_module": "@jupyter-widgets/controls",
      "model_module_version": "2.0.0",
      "model_name": "FloatProgressModel",
      "state": {
       "layout": "IPY_MODEL_acc1cd04b55a4701b009d655a028c911",
       "max": 10,
       "style": "IPY_MODEL_acd75e3dd9c8421385ce650d34d1cbfd",
       "value": 10
      }
     },
     "e49b007a92c24f05ad97160ae5c13718": {
      "model_module": "@jupyter-widgets/base",
      "model_module_version": "2.0.0",
      "model_name": "LayoutModel",
      "state": {}
     },
     "e4be572bd9c6491f81b73040624a43c0": {
      "model_module": "@jupyter-widgets/base",
      "model_module_version": "2.0.0",
      "model_name": "LayoutModel",
      "state": {}
     },
     "e669963e1500437d9c284221b48a92d8": {
      "model_module": "@jupyter-widgets/controls",
      "model_module_version": "2.0.0",
      "model_name": "FloatProgressModel",
      "state": {
       "layout": "IPY_MODEL_c56ec8d8620845d890bf5b4841f77b62",
       "max": 10,
       "style": "IPY_MODEL_d80ef6bd1b9d4b19a9c77a66e09d2054",
       "value": 10
      }
     },
     "e6e4fd8e6f1549bdbe3be6fa05b9a832": {
      "model_module": "@jupyter-widgets/base",
      "model_module_version": "2.0.0",
      "model_name": "LayoutModel",
      "state": {}
     },
     "e778a910b78f402fbbbd4e088b5939bd": {
      "model_module": "@jupyter-widgets/base",
      "model_module_version": "2.0.0",
      "model_name": "LayoutModel",
      "state": {}
     },
     "e8ad2e9c147f403790e07ed60fee86bc": {
      "model_module": "@jupyter-widgets/base",
      "model_module_version": "2.0.0",
      "model_name": "LayoutModel",
      "state": {}
     },
     "eaf34f9ef510434c88a30a803dca20fe": {
      "model_module": "@jupyter-widgets/controls",
      "model_module_version": "2.0.0",
      "model_name": "HTMLStyleModel",
      "state": {
       "description_width": "",
       "font_size": null,
       "text_color": null
      }
     },
     "ec0bcd1202954083b2f1adc08c9a7b75": {
      "model_module": "@jupyter-widgets/controls",
      "model_module_version": "2.0.0",
      "model_name": "HTMLModel",
      "state": {
       "layout": "IPY_MODEL_9a6a62585e3e4b2a9e2454c3b7caa972",
       "style": "IPY_MODEL_690d47ed656b496787d02e42e5876ff9",
       "value": "  0%"
      }
     },
     "ed27d1f2121e4c239ebd83d4105e4562": {
      "model_module": "@jupyter-widgets/base",
      "model_module_version": "2.0.0",
      "model_name": "LayoutModel",
      "state": {}
     },
     "ed2e2918a1d84f3b9b6a1369fa84209e": {
      "model_module": "@jupyter-widgets/base",
      "model_module_version": "2.0.0",
      "model_name": "LayoutModel",
      "state": {}
     },
     "ef3da8ed43c7419bb6b5a31a9e96d43e": {
      "model_module": "@jupyter-widgets/controls",
      "model_module_version": "2.0.0",
      "model_name": "FloatProgressModel",
      "state": {
       "layout": "IPY_MODEL_e8ad2e9c147f403790e07ed60fee86bc",
       "max": 10,
       "style": "IPY_MODEL_0c74004c84a842fb9b373d40f1a55a61",
       "value": 10
      }
     },
     "ef79322ebd3e49f0809f64d30c30a3bb": {
      "model_module": "@jupyter-widgets/controls",
      "model_module_version": "2.0.0",
      "model_name": "HTMLStyleModel",
      "state": {
       "description_width": "",
       "font_size": null,
       "text_color": null
      }
     },
     "f4b82856129b4813bb0f25d5182e79de": {
      "model_module": "@jupyter-widgets/controls",
      "model_module_version": "2.0.0",
      "model_name": "ProgressStyleModel",
      "state": {
       "description_width": ""
      }
     },
     "f57afcf7ff454c9bbb3df2529528019c": {
      "model_module": "@jupyter-widgets/controls",
      "model_module_version": "2.0.0",
      "model_name": "HTMLStyleModel",
      "state": {
       "description_width": "",
       "font_size": null,
       "text_color": null
      }
     },
     "f58ce7229214407e969898341b03cc68": {
      "model_module": "@jupyter-widgets/base",
      "model_module_version": "2.0.0",
      "model_name": "LayoutModel",
      "state": {}
     },
     "f67732f8af3442c3940a53c316d836b3": {
      "model_module": "@jupyter-widgets/base",
      "model_module_version": "2.0.0",
      "model_name": "LayoutModel",
      "state": {}
     },
     "f707d2857fdc4cc5869b7e435c02913b": {
      "model_module": "@jupyter-widgets/controls",
      "model_module_version": "2.0.0",
      "model_name": "HTMLModel",
      "state": {
       "layout": "IPY_MODEL_9a608b0e6d4a4bb69249ebebe95af47a",
       "style": "IPY_MODEL_fc8e3555e7084d8f83d64bb8ea43e018",
       "value": " 0/10 [00:00&lt;?, ?it/s]"
      }
     },
     "fa516ab64ac9450c97d2aa33ea5ca240": {
      "model_module": "@jupyter-widgets/controls",
      "model_module_version": "2.0.0",
      "model_name": "FloatProgressModel",
      "state": {
       "layout": "IPY_MODEL_21e9f3d6a4ff4b3fb3c99adbad36c1c8",
       "max": 10,
       "style": "IPY_MODEL_a3ea56a7c97f474994249f5d729874d1",
       "value": 10
      }
     },
     "faaef236433740d48bdcbcf084d1a844": {
      "model_module": "@jupyter-widgets/controls",
      "model_module_version": "2.0.0",
      "model_name": "HTMLModel",
      "state": {
       "layout": "IPY_MODEL_3cf42b1153674722ac27197716c33bfd",
       "style": "IPY_MODEL_1919ccf75164443b84572f042d4bce9e",
       "value": "  0%"
      }
     },
     "fc8e3555e7084d8f83d64bb8ea43e018": {
      "model_module": "@jupyter-widgets/controls",
      "model_module_version": "2.0.0",
      "model_name": "HTMLStyleModel",
      "state": {
       "description_width": "",
       "font_size": null,
       "text_color": null
      }
     },
     "fe1bd5135e8d409b8157e180efbc4d88": {
      "model_module": "@jupyter-widgets/base",
      "model_module_version": "2.0.0",
      "model_name": "LayoutModel",
      "state": {
       "visibility": "hidden"
      }
     }
    },
    "version_major": 2,
    "version_minor": 0
   }
  }
 },
 "nbformat": 4,
 "nbformat_minor": 5
}
